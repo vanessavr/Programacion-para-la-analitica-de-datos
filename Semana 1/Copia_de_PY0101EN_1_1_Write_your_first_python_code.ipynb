{
  "cells": [
    {
      "cell_type": "markdown",
      "metadata": {
        "id": "view-in-github",
        "colab_type": "text"
      },
      "source": [
        "<a href=\"https://colab.research.google.com/github/vanessavr/Programacion-para-la-analitica-de-datos/blob/main/Copia_de_PY0101EN_1_1_Write_your_first_python_code.ipynb\" target=\"_parent\"><img src=\"https://colab.research.google.com/assets/colab-badge.svg\" alt=\"Open In Colab\"/></a>"
      ]
    },
    {
      "cell_type": "markdown",
      "metadata": {
        "id": "zFp1Ps8e_jC4"
      },
      "source": [
        "<p style=\"text-align:center\">\n",
        "    <a href=\"https://skills.network/?utm_medium=Exinfluencer&utm_source=Exinfluencer&utm_content=000026UJ&utm_term=10006555&utm_id=NA-SkillsNetwork-Channel-SkillsNetworkCoursesIBMDeveloperSkillsNetworkPY0101ENSkillsNetwork19487395-2022-01-01\" target=\"_blank\">\n",
        "    <img src=\"https://cf-courses-data.s3.us.cloud-object-storage.appdomain.cloud/assets/logos/SN_web_lightmode.png\" width=\"200\" alt=\"Skills Network Logo\"  />\n",
        "    </a>\n",
        "</p>\n",
        "\n",
        "# Writing Your First Python Code\n",
        "\n",
        "Estimated time needed: **25** minutes\n",
        "\n",
        "## Objectives\n",
        "\n",
        "After completing this lab you will be able to:\n",
        "\n",
        "*   Write basic code in Python\n",
        "*   Work with various types of data in Python\n",
        "*   Convert the data from one type to another\n",
        "*   Use expressions and variables to perform operations\n"
      ]
    },
    {
      "cell_type": "markdown",
      "metadata": {
        "id": "8Dc_xPYm_jC8"
      },
      "source": [
        "<h2>Table of Contents</h2>\n",
        "<div class=\"alert alert-block alert-info\" style=\"margin-top: 20px\">\n",
        "    <ul>\n",
        "        <li>\n",
        "            <a href=\"https://#hello\">Say \"Hello\" to the world in Python</a>\n",
        "            <ul>\n",
        "                <li><a href=\"https://version/?utm_medium=Exinfluencer&utm_source=Exinfluencer&utm_content=000026UJ&utm_term=10006555&utm_id=NA-SkillsNetwork-Channel-SkillsNetworkCoursesIBMDeveloperSkillsNetworkPY0101ENSkillsNetwork19487395-2022-01-01\">What version of Python are we using?</a></li>\n",
        "                <li><a href=\"https://comments/?utm_medium=Exinfluencer&utm_source=Exinfluencer&utm_content=000026UJ&utm_term=10006555&utm_id=NA-SkillsNetwork-Channel-SkillsNetworkCoursesIBMDeveloperSkillsNetworkPY0101ENSkillsNetwork19487395-2022-01-01\">Writing comments in Python</a></li>\n",
        "                <li><a href=\"https://errors/?utm_medium=Exinfluencer&utm_source=Exinfluencer&utm_content=000026UJ&utm_term=10006555&utm_id=NA-SkillsNetwork-Channel-SkillsNetworkCoursesIBMDeveloperSkillsNetworkPY0101ENSkillsNetwork19487395-2022-01-01\">Errors in Python</a></li>\n",
        "                <li><a href=\"https://python_error/?utm_medium=Exinfluencer&utm_source=Exinfluencer&utm_content=000026UJ&utm_term=10006555&utm_id=NA-SkillsNetwork-Channel-SkillsNetworkCoursesIBMDeveloperSkillsNetworkPY0101ENSkillsNetwork19487395-2022-01-01\">Does Python know about your error before it runs your code?</a></li>\n",
        "                <li><a href=\"https://exercise/?utm_medium=Exinfluencer&utm_source=Exinfluencer&utm_content=000026UJ&utm_term=10006555&utm_id=NA-SkillsNetwork-Channel-SkillsNetworkCoursesIBMDeveloperSkillsNetworkPY0101ENSkillsNetwork19487395-2022-01-01\">Exercise: Your First Program</a></li>\n",
        "            </ul>\n",
        "        </li>\n",
        "        <li>\n",
        "            <a href=\"https://#types_objects\">Types of objects in Python</a>\n",
        "            <ul>\n",
        "                <li><a href=\"https://int/?utm_medium=Exinfluencer&utm_source=Exinfluencer&utm_content=000026UJ&utm_term=10006555&utm_id=NA-SkillsNetwork-Channel-SkillsNetworkCoursesIBMDeveloperSkillsNetworkPY0101ENSkillsNetwork19487395-2022-01-01\">Integers</a></li>\n",
        "                <li><a href=\"https://float/?utm_medium=Exinfluencer&utm_source=Exinfluencer&utm_content=000026UJ&utm_term=10006555&utm_id=NA-SkillsNetwork-Channel-SkillsNetworkCoursesIBMDeveloperSkillsNetworkPY0101ENSkillsNetwork19487395-2022-01-01\">Floats</a></li>\n",
        "                <li><a href=\"https://convert/?utm_medium=Exinfluencer&utm_source=Exinfluencer&utm_content=000026UJ&utm_term=10006555&utm_id=NA-SkillsNetwork-Channel-SkillsNetworkCoursesIBMDeveloperSkillsNetworkPY0101ENSkillsNetwork19487395-2022-01-01\">Converting from one object type to a different object type</a></li>\n",
        "                <li><a href=\"https://bool/?utm_medium=Exinfluencer&utm_source=Exinfluencer&utm_content=000026UJ&utm_term=10006555&utm_id=NA-SkillsNetwork-Channel-SkillsNetworkCoursesIBMDeveloperSkillsNetworkPY0101ENSkillsNetwork19487395-2022-01-01\">Boolean data type</a></li>\n",
        "                <li><a href=\"https://exer_type/?utm_medium=Exinfluencer&utm_source=Exinfluencer&utm_content=000026UJ&utm_term=10006555&utm_id=NA-SkillsNetwork-Channel-SkillsNetworkCoursesIBMDeveloperSkillsNetworkPY0101ENSkillsNetwork19487395-2022-01-01\">Exercise: Types</a></li>\n",
        "            </ul>\n",
        "        </li>\n",
        "        <li>\n",
        "            <a href=\"https://#https://exp/?utm_medium=Exinfluencer&utm_source=Exinfluencer&utm_content=000026UJ&utm_term=10006555&utm_id=NA-SkillsNetwork-Channel-SkillsNetworkCoursesIBMDeveloperSkillsNetworkPY0101ENSkillsNetwork19487395-2022-01-01ressions\">Expressions and Variables</a>\n",
        "            <ul>\n",
        "                <li><a href=\"exp\">Expressions</a></li>\n",
        "                <li><a href=\"https://exer_exp/?utm_medium=Exinfluencer&utm_source=Exinfluencer&utm_content=000026UJ&utm_term=10006555&utm_id=NA-SkillsNetwork-Channel-SkillsNetworkCoursesIBMDeveloperSkillsNetworkPY0101ENSkillsNetwork19487395-2022-01-01\">Exercise: Expressions</a></li>\n",
        "                <li><a href=\"https://var/?utm_medium=Exinfluencer&utm_source=Exinfluencer&utm_content=000026UJ&utm_term=10006555&utm_id=NA-SkillsNetwork-Channel-SkillsNetworkCoursesIBMDeveloperSkillsNetworkPY0101ENSkillsNetwork19487395-2022-01-01\">Variables</a></li>\n",
        "                <li><a href=\"https://exer_exp_var/?utm_medium=Exinfluencer&utm_source=Exinfluencer&utm_content=000026UJ&utm_term=10006555&utm_id=NA-SkillsNetwork-Channel-SkillsNetworkCoursesIBMDeveloperSkillsNetworkPY0101ENSkillsNetwork19487395-2022-01-01\">Exercise: Expression and Variables in Python</a></li>\n",
        "            </ul>\n",
        "        </li>\n",
        "    </ul>\n",
        "    <p>\n",
        "        Estimated time needed: <strong>25 min</strong>\n",
        "    </p>\n",
        "</div>\n",
        "\n",
        "<hr>\n"
      ]
    },
    {
      "cell_type": "markdown",
      "metadata": {
        "id": "FzX0VAGE_jC-"
      },
      "source": [
        "<h2 id=\"hello\">Say \"Hello\" to the world in Python</h2>\n"
      ]
    },
    {
      "cell_type": "markdown",
      "metadata": {
        "id": "2wYP-Pty_jC-"
      },
      "source": [
        "When learning a new programming language, it is customary to start with an \"hello world\" example. As simple as it is, this one line of code will ensure that we know how to print a string in output and how to execute code within cells in a notebook.\n"
      ]
    },
    {
      "cell_type": "markdown",
      "metadata": {
        "id": "6dJvs_KE_jC_"
      },
      "source": [
        "<hr/>\n",
        "<div class=\"alert alert-success alertsuccess\" style=\"margin-top: 20px\">\n",
        "[Tip]: To execute the Python code in the code cell below, click on the cell to select it and press <kbd>Shift</kbd> + <kbd>Enter</kbd>.\n",
        "</div>\n",
        "<hr/>\n"
      ]
    },
    {
      "cell_type": "code",
      "execution_count": null,
      "metadata": {
        "id": "dPYZSeZt_jC_"
      },
      "outputs": [],
      "source": [
        "# Try your first Python output\n",
        "\n",
        "print('Hello, Python!')"
      ]
    },
    {
      "cell_type": "markdown",
      "metadata": {
        "id": "HyYBx7u9_jDA"
      },
      "source": [
        "After executing the cell above, you should see that Python prints <code>Hello, Python!</code>. Congratulations on running your first Python code!\n"
      ]
    },
    {
      "cell_type": "markdown",
      "metadata": {
        "id": "lVuRPR6W_jDB"
      },
      "source": [
        "<hr/>\n",
        "<div class=\"alert alert-success alertsuccess\" style=\"margin-top: 20px\">\n",
        "    [Tip:] <code>print()</code> is a function. You passed the string <code>'Hello, Python!'</code> as an argument to instruct Python on what to print.\n",
        "</div>\n",
        "<hr/>\n"
      ]
    },
    {
      "cell_type": "markdown",
      "metadata": {
        "id": "Hfktxpcf_jDC"
      },
      "source": [
        "<h3 id=\"version\">What version of Python are we using?</h3>\n"
      ]
    },
    {
      "cell_type": "markdown",
      "metadata": {
        "id": "E8y1T2le_jDC"
      },
      "source": [
        "<p>\n",
        "    There are two popular versions of the Python programming language in use today: Python 2 and Python 3. The Python community has decided to move on from Python 2 to Python 3, and many popular libraries have announced that they will no longer support Python 2.\n",
        "</p>\n",
        "<p>\n",
        "    Since Python 3 is the future, in this course we will be using it exclusively. How do we know that our notebook is executed by a Python 3 runtime? We can look in the top-right hand corner of this notebook and see \"Python 3\".\n",
        "</p>\n",
        "<p>\n",
        "    We can also ask Python directly and obtain a detailed answer. Try executing the following code:\n",
        "</p>\n"
      ]
    },
    {
      "cell_type": "code",
      "execution_count": null,
      "metadata": {
        "id": "7F-o7DQC_jDD"
      },
      "outputs": [],
      "source": [
        "# Check the Python Version\n",
        "\n",
        "import sys\n",
        "print(sys.version)"
      ]
    },
    {
      "cell_type": "markdown",
      "metadata": {
        "id": "ZkCHLJYY_jDD"
      },
      "source": [
        "<hr/>\n",
        "<div class=\"alert alert-success alertsuccess\" style=\"margin-top: 20px\">\n",
        "    [Tip:] <code>sys</code> is a built-in module that contains many system-specific parameters and functions, including the Python version in use. Before using it, we must explictly <code>import</code> it.\n",
        "</div>\n",
        "<hr/>\n"
      ]
    },
    {
      "cell_type": "markdown",
      "metadata": {
        "id": "aC7truza_jDD"
      },
      "source": [
        "<h3 id=\"comments\">Writing comments in Python</h3>\n"
      ]
    },
    {
      "cell_type": "markdown",
      "metadata": {
        "id": "oxp3f1Yx_jDE"
      },
      "source": [
        "<p>\n",
        "    In addition to writing code, note that it's always a good idea to add comments to your code. It will help others understand what you were trying to accomplish (the reason why you wrote a given snippet of code). Not only does this help <strong>other people</strong> understand your code, it can also serve as a reminder <strong>to you</strong> when you come back to it weeks or months later.</p>\n",
        "\n",
        "<p>\n",
        "    To write comments in Python, use the number symbol <code>#</code> before writing your comment. When you run your code, Python will ignore everything past the <code>#</code> on a given line.\n",
        "</p>\n"
      ]
    },
    {
      "cell_type": "code",
      "execution_count": null,
      "metadata": {
        "id": "WbwARpWH_jDE"
      },
      "outputs": [],
      "source": [
        "# Practice on writing comments\n",
        "\n",
        "print('Hello, Python!') # This line prints a string\n",
        "# print('Hi')"
      ]
    },
    {
      "cell_type": "markdown",
      "metadata": {
        "id": "L6g8hPCx_jDE"
      },
      "source": [
        "<p>\n",
        "    After executing the cell above, you should notice that <code>This line prints a string</code> did not appear in the output, because it was a comment (and thus ignored by Python).\n",
        "</p>\n",
        "<p>\n",
        "    The second line was also not executed because <code>print('Hi')</code> was preceded by the number sign (<code>#</code>) as well! Since this isn't an explanatory comment from the programmer, but an actual line of code, we might say that the programmer <em>commented out</em> that second line of code.\n",
        "</p>\n"
      ]
    },
    {
      "cell_type": "markdown",
      "metadata": {
        "id": "_G-iC9TV_jDF"
      },
      "source": [
        "<h3 id=\"errors\">Errors in Python</h3>\n"
      ]
    },
    {
      "cell_type": "markdown",
      "metadata": {
        "id": "f-RYZzBF_jDF"
      },
      "source": [
        "<p>Everyone makes mistakes. For many types of mistakes, Python will tell you that you have made a mistake by giving you an error message. It is important to read error messages carefully to really understand where you made a mistake and how you may go about correcting it.</p>\n",
        "<p>For example, if you spell <code>print</code> as <code>frint</code>, Python will display an error message. Give it a try:</p>\n"
      ]
    },
    {
      "cell_type": "code",
      "execution_count": null,
      "metadata": {
        "id": "w9diJMy6_jDF"
      },
      "outputs": [],
      "source": [
        "# Print string as error message\n",
        "\n",
        "frint(\"Hello, Python!\")"
      ]
    },
    {
      "cell_type": "markdown",
      "metadata": {
        "id": "BtrCGNei_jDF"
      },
      "source": [
        "<p>The error message tells you: \n",
        "<ol>\n",
        "    <li>where the error occurred (more useful in large notebook cells or scripts), and</li> \n",
        "    <li>what kind of error it was (NameError)</li> \n",
        "</ol>\n",
        "<p>Here, Python attempted to run the function <code>frint</code>, but could not determine what <code>frint</code> is since it's not a built-in function and it has not been previously defined by us either.</p>\n"
      ]
    },
    {
      "cell_type": "markdown",
      "metadata": {
        "id": "3J1vRyWS_jDF"
      },
      "source": [
        "<p>\n",
        "    You'll notice that if we make a different type of mistake, by forgetting to close the string, we'll obtain a different error (i.e., a <code>SyntaxError</code>). Try it below:\n",
        "</p>\n"
      ]
    },
    {
      "cell_type": "code",
      "execution_count": null,
      "metadata": {
        "id": "uNVlWHuY_jDG"
      },
      "outputs": [],
      "source": [
        "# Try to see built-in error message\n",
        "\n",
        "print(\"Hello, Python!)"
      ]
    },
    {
      "cell_type": "markdown",
      "metadata": {
        "id": "4obnW8Nn_jDG"
      },
      "source": [
        "<h3 id=\"python_error\">Does Python know about your error before it runs your code?</h3>\n"
      ]
    },
    {
      "cell_type": "markdown",
      "metadata": {
        "id": "Kv2qYQWv_jDG"
      },
      "source": [
        "Python is what is called an <em>interpreted language</em>. Compiled languages examine your entire program at compile time, and are able to warn you about a whole class of errors prior to execution. In contrast, Python interprets your script line by line as it executes it. Python will stop executing the entire program when it encounters an error (unless the error is expected and handled by the programmer, a more advanced subject that we'll cover later on in this course).\n"
      ]
    },
    {
      "cell_type": "markdown",
      "metadata": {
        "id": "jUO_gRy__jDG"
      },
      "source": [
        "Try to run the code in the cell below and see what happens:\n"
      ]
    },
    {
      "cell_type": "code",
      "execution_count": null,
      "metadata": {
        "id": "113wskEg_jDH"
      },
      "outputs": [],
      "source": [
        "# Print string and error to see the running order\n",
        "\n",
        "print(\"This will be printed\")\n",
        "frint(\"This will cause an error\")\n",
        "print(\"This will NOT be printed\")"
      ]
    },
    {
      "cell_type": "markdown",
      "metadata": {
        "id": "d9XAu70S_jDH"
      },
      "source": [
        "<h3 id=\"exercise\">Exercise: Your First Program</h3>\n"
      ]
    },
    {
      "cell_type": "markdown",
      "metadata": {
        "id": "9C8QLpOP_jDH"
      },
      "source": [
        "<p>Generations of programmers have started their coding careers by simply printing \"Hello, world!\". You will be following in their footsteps.</p>\n",
        "<p>In the code cell below, use the <code>print()</code> function to print out the phrase: <code>Hello, world!</code></p>\n"
      ]
    },
    {
      "cell_type": "code",
      "execution_count": null,
      "metadata": {
        "id": "n-DsEUlu_jDH",
        "colab": {
          "base_uri": "https://localhost:8080/"
        },
        "outputId": "7300ab4a-492d-4308-a5d6-6bca48388cd8"
      },
      "outputs": [
        {
          "output_type": "stream",
          "name": "stdout",
          "text": [
            "Hello, world!\n"
          ]
        }
      ],
      "source": [
        "# Write your code below. Don't forget to press Shift+Enter to execute the cell\n",
        "print(\"Hello, world!\")"
      ]
    },
    {
      "cell_type": "markdown",
      "metadata": {
        "id": "NkxFxIMR_jDH"
      },
      "source": [
        "<details><summary>Click here for the solution</summary>\n",
        "\n",
        "```python\n",
        "print(\"Hello, world!\")\n",
        "\n",
        "```\n",
        "\n",
        "</details>\n"
      ]
    },
    {
      "cell_type": "markdown",
      "metadata": {
        "id": "sRe4U35F_jDH"
      },
      "source": [
        "<p>Now, let's enhance your code with a comment. In the code cell below, print out the phrase: <code>Hello, world!</code> and comment it with the phrase <code>Print the traditional hello world</code> all in one line of code.</p>\n"
      ]
    },
    {
      "cell_type": "code",
      "execution_count": null,
      "metadata": {
        "id": "1Q4YTqxD_jDI",
        "colab": {
          "base_uri": "https://localhost:8080/"
        },
        "outputId": "7fc241a8-6f83-47c1-beef-ef8ac1e5b2c4"
      },
      "outputs": [
        {
          "output_type": "stream",
          "name": "stdout",
          "text": [
            "Hello, world!\n"
          ]
        }
      ],
      "source": [
        "# Write your code below. Don't forget to press Shift+Enter to execute the cell\n",
        "print(\"Hello, world!\") #Print the traditional hello world\n"
      ]
    },
    {
      "cell_type": "markdown",
      "metadata": {
        "id": "S_QsINDQ_jDI"
      },
      "source": [
        "<details><summary>Click here for the solution</summary>\n",
        "\n",
        "```python\n",
        "print(\"Hello, world!\") # Print the traditional hello world\n",
        "\n",
        "```\n",
        "\n",
        "</details>\n"
      ]
    },
    {
      "cell_type": "markdown",
      "metadata": {
        "id": "HEGG_OUs_jDI"
      },
      "source": [
        "<hr>\n"
      ]
    },
    {
      "cell_type": "markdown",
      "metadata": {
        "id": "8yPEnBSU_jDI"
      },
      "source": [
        "<h2 id=\"types_objects\" align=\"center\">Types of objects in Python</h2>\n"
      ]
    },
    {
      "cell_type": "markdown",
      "metadata": {
        "id": "jqYa94Kz_jDI"
      },
      "source": [
        "<p>Python is an object-oriented language. There are many different types of objects in Python. Let's start with the most common object types: <i>strings</i>, <i>integers</i> and <i>floats</i>. Anytime you write words (text) in Python, you're using <i>character strings</i> (strings for short). The most common numbers, on the other hand, are <i>integers</i> (e.g. -1, 0, 100) and <i>floats</i>, which represent real numbers (e.g. 3.14, -42.0).</p>\n"
      ]
    },
    {
      "cell_type": "markdown",
      "metadata": {
        "id": "w652Vrnb_jDJ"
      },
      "source": [
        "<a align=\"center\">\n",
        "    <img src=\"https://cf-courses-data.s3.us.cloud-object-storage.appdomain.cloud/IBMDeveloperSkillsNetwork-PY0101EN-SkillsNetwork/labs/Module%201/images/TypesObjects.png\" width=\"600\">\n",
        "</a>\n"
      ]
    },
    {
      "cell_type": "markdown",
      "metadata": {
        "id": "ojXViz00_jDJ"
      },
      "source": [
        "<p>The following code cells contain some examples.</p>\n"
      ]
    },
    {
      "cell_type": "code",
      "execution_count": null,
      "metadata": {
        "id": "WJ5-AbZg_jDJ"
      },
      "outputs": [],
      "source": [
        "# Integer\n",
        "\n",
        "11"
      ]
    },
    {
      "cell_type": "code",
      "execution_count": null,
      "metadata": {
        "id": "fXG6nDGp_jDJ"
      },
      "outputs": [],
      "source": [
        "# Float\n",
        "\n",
        "2.14"
      ]
    },
    {
      "cell_type": "code",
      "execution_count": null,
      "metadata": {
        "id": "rbacSVCl_jDK"
      },
      "outputs": [],
      "source": [
        "# String\n",
        "\n",
        "\"Hello, Python 101!\""
      ]
    },
    {
      "cell_type": "markdown",
      "metadata": {
        "id": "IzwLG2wr_jDK"
      },
      "source": [
        "<p>You can get Python to tell you the type of an expression by using the built-in <code>type()</code> function. You'll notice that Python refers to integers as <code>int</code>, floats as <code>float</code>, and character strings as <code>str</code>.</p>\n"
      ]
    },
    {
      "cell_type": "code",
      "execution_count": null,
      "metadata": {
        "id": "qSNZ7sPa_jDK"
      },
      "outputs": [],
      "source": [
        "# Type of 12\n",
        "\n",
        "type(12)"
      ]
    },
    {
      "cell_type": "code",
      "execution_count": null,
      "metadata": {
        "id": "nJOwWCrJ_jDK"
      },
      "outputs": [],
      "source": [
        "# Type of 2.14\n",
        "\n",
        "type(2.14)"
      ]
    },
    {
      "cell_type": "code",
      "execution_count": null,
      "metadata": {
        "id": "CDH9c4F3_jDK"
      },
      "outputs": [],
      "source": [
        "# Type of \"Hello, Python 101!\"\n",
        "\n",
        "type(\"Hello, Python 101!\")"
      ]
    },
    {
      "cell_type": "markdown",
      "metadata": {
        "id": "U97S0K8R_jDL"
      },
      "source": [
        "<p>In the code cell below, use the <code>type()</code> function to check the object type of <code>12.0</code>.\n"
      ]
    },
    {
      "cell_type": "code",
      "execution_count": null,
      "metadata": {
        "id": "JGkLGY96_jDL"
      },
      "outputs": [],
      "source": [
        "# Write your code below. Don't forget to press Shift+Enter to execute the cell\n"
      ]
    },
    {
      "cell_type": "markdown",
      "metadata": {
        "id": "ZApABrf4_jDL"
      },
      "source": [
        "<details><summary>Click here for the solution</summary>\n",
        "\n",
        "```python\n",
        "type(12.0)\n",
        "\n",
        "```\n",
        "\n",
        "</details>\n"
      ]
    },
    {
      "cell_type": "markdown",
      "metadata": {
        "id": "LpBhGheu_jDL"
      },
      "source": [
        "<h3 id=\"int\">Integers</h3>\n"
      ]
    },
    {
      "cell_type": "markdown",
      "metadata": {
        "id": "XFzyvGFT_jDL"
      },
      "source": [
        "<p>Here are some examples of integers. Integers can be negative or positive numbers:</p>\n"
      ]
    },
    {
      "cell_type": "markdown",
      "metadata": {
        "id": "TOLlD3UR_jDL"
      },
      "source": [
        "<a align=\"center\">\n",
        "    <img src=\"https://cf-courses-data.s3.us.cloud-object-storage.appdomain.cloud/IBMDeveloperSkillsNetwork-PY0101EN-SkillsNetwork/labs/Module%201/images/TypesInt.png\" width=\"600\">\n",
        "</a>\n"
      ]
    },
    {
      "cell_type": "markdown",
      "metadata": {
        "id": "PY8vXzpR_jDM"
      },
      "source": [
        "<p>We can verify this is the case by using, you guessed it, the <code>type()</code> function:\n"
      ]
    },
    {
      "cell_type": "code",
      "execution_count": null,
      "metadata": {
        "id": "lgYnKrby_jDM"
      },
      "outputs": [],
      "source": [
        "# Print the type of -1\n",
        "\n",
        "type(-1)"
      ]
    },
    {
      "cell_type": "code",
      "execution_count": null,
      "metadata": {
        "id": "_7cua6op_jDM"
      },
      "outputs": [],
      "source": [
        "# Print the type of 4\n",
        "\n",
        "type(4)"
      ]
    },
    {
      "cell_type": "code",
      "execution_count": null,
      "metadata": {
        "id": "Llz9Q1EV_jDM"
      },
      "outputs": [],
      "source": [
        "# Print the type of 0\n",
        "\n",
        "type(0)"
      ]
    },
    {
      "cell_type": "markdown",
      "metadata": {
        "id": "aLcfx4rN_jDM"
      },
      "source": [
        "<h3 id=\"float\">Floats</h3> \n"
      ]
    },
    {
      "cell_type": "markdown",
      "metadata": {
        "id": "U8e2aiGU_jDM"
      },
      "source": [
        "<p>Floats represent real numbers; they are a superset of integer numbers but also include \"numbers with decimals\". There are some limitations when it comes to machines representing real numbers, but floating point numbers are a good representation in most cases. You can learn more about the specifics of floats for your runtime environment, by checking the value of <code>sys.float_info</code>. This will also tell you what's the largest and smallest number that can be represented with them.</p>\n",
        "\n",
        "<p>Once again, can test some examples with the <code>type()</code> function:\n"
      ]
    },
    {
      "cell_type": "code",
      "execution_count": null,
      "metadata": {
        "id": "oLCraQE-_jDN"
      },
      "outputs": [],
      "source": [
        "# Print the type of 1.0\n",
        "\n",
        "type(1.0) # Notice that 1 is an int, and 1.0 is a float"
      ]
    },
    {
      "cell_type": "code",
      "execution_count": null,
      "metadata": {
        "id": "dSCpNlr9_jDN"
      },
      "outputs": [],
      "source": [
        "# Print the type of 0.5\n",
        "\n",
        "type(0.5)"
      ]
    },
    {
      "cell_type": "code",
      "execution_count": null,
      "metadata": {
        "id": "O_DBaiNb_jDN"
      },
      "outputs": [],
      "source": [
        "# Print the type of 0.56\n",
        "\n",
        "type(0.56)"
      ]
    },
    {
      "cell_type": "code",
      "execution_count": null,
      "metadata": {
        "id": "z-2t2YsI_jDN"
      },
      "outputs": [],
      "source": [
        "# System settings about float type\n",
        "\n",
        "sys.float_info"
      ]
    },
    {
      "cell_type": "markdown",
      "metadata": {
        "id": "FfdDAJdy_jDN"
      },
      "source": [
        "<h3 id=\"convert\">Converting from one object type to a different object type</h3>\n"
      ]
    },
    {
      "cell_type": "markdown",
      "metadata": {
        "id": "U62rfOPH_jDN"
      },
      "source": [
        "<p>You can change the type of the object in Python; this is called typecasting. For example, you can convert an <i>integer</i> into a <i>float</i> (e.g. 2 to 2.0).</p>\n",
        "<p>Let's try it:</p>\n"
      ]
    },
    {
      "cell_type": "code",
      "execution_count": null,
      "metadata": {
        "id": "Cu9kHMTA_jDO"
      },
      "outputs": [],
      "source": [
        "# Verify that this is an integer\n",
        "\n",
        "type(2)"
      ]
    },
    {
      "cell_type": "markdown",
      "metadata": {
        "id": "7tFsgUMS_jDO"
      },
      "source": [
        "<h4>Converting integers to floats</h4>\n",
        "<p>Let's cast integer 2 to float:</p>\n"
      ]
    },
    {
      "cell_type": "code",
      "execution_count": null,
      "metadata": {
        "id": "1MoVJw0g_jDO"
      },
      "outputs": [],
      "source": [
        "# Convert 2 to a float\n",
        "\n",
        "float(2)"
      ]
    },
    {
      "cell_type": "code",
      "execution_count": null,
      "metadata": {
        "id": "mj_jZ7KO_jDO"
      },
      "outputs": [],
      "source": [
        "# Convert integer 2 to a float and check its type\n",
        "\n",
        "type(float(2))"
      ]
    },
    {
      "cell_type": "markdown",
      "metadata": {
        "id": "FIRfJrAj_jDO"
      },
      "source": [
        "<p>When we convert an integer into a float, we don't really change the value (i.e., the significand) of the number. However, if we cast a float into an integer, we could potentially lose some information. For example, if we cast the float 1.1 to integer we will get 1 and lose the decimal information (i.e., 0.1):</p>\n"
      ]
    },
    {
      "cell_type": "code",
      "execution_count": null,
      "metadata": {
        "id": "4-6lERGH_jDO"
      },
      "outputs": [],
      "source": [
        "# Casting 1.1 to integer will result in loss of information\n",
        "\n",
        "int(1.1)"
      ]
    },
    {
      "cell_type": "markdown",
      "metadata": {
        "id": "3cO9le6M_jDP"
      },
      "source": [
        "<h4>Converting from strings to integers or floats</h4>\n"
      ]
    },
    {
      "cell_type": "markdown",
      "metadata": {
        "id": "VkKJVmXw_jDP"
      },
      "source": [
        "<p>Sometimes, we can have a string that contains a number within it. If this is the case, we can cast that string that represents a number into an integer using <code>int()</code>:</p>\n"
      ]
    },
    {
      "cell_type": "code",
      "execution_count": null,
      "metadata": {
        "id": "eBqAEUPo_jDP"
      },
      "outputs": [],
      "source": [
        "# Convert a string into an integer\n",
        "\n",
        "int('1')"
      ]
    },
    {
      "cell_type": "markdown",
      "metadata": {
        "id": "yVVmIFYw_jDP"
      },
      "source": [
        "<p>But if you try to do so with a string that is not a perfect match for a number, you'll get an error. Try the following:</p>\n"
      ]
    },
    {
      "cell_type": "code",
      "execution_count": null,
      "metadata": {
        "id": "hOS67Z3M_jDP"
      },
      "outputs": [],
      "source": [
        "# Convert a string into an integer with error\n",
        "\n",
        "int('1 or 2 people')"
      ]
    },
    {
      "cell_type": "markdown",
      "metadata": {
        "id": "2zXce6YO_jDP"
      },
      "source": [
        "<p>You can also convert strings containing floating point numbers into <i>float</i> objects:</p>\n"
      ]
    },
    {
      "cell_type": "code",
      "execution_count": null,
      "metadata": {
        "id": "OdcYYoII_jDQ"
      },
      "outputs": [],
      "source": [
        "# Convert the string \"1.2\" into a float\n",
        "\n",
        "float('1.2')"
      ]
    },
    {
      "cell_type": "markdown",
      "metadata": {
        "id": "Vo4E5jqZ_jDQ"
      },
      "source": [
        "<hr/>\n",
        "<div class=\"alert alert-success alertsuccess\" style=\"margin-top: 20px\">\n",
        "    [Tip:] Note that strings can be represented with single quotes (<code>'1.2'</code>) or double quotes (<code>\"1.2\"</code>), but you can't mix both (e.g., <code>\"1.2'</code>).\n",
        "</div>\n",
        "<hr/>\n"
      ]
    },
    {
      "cell_type": "markdown",
      "metadata": {
        "id": "zet_UvS-_jDQ"
      },
      "source": [
        "<h4>Converting numbers to strings</h4>\n"
      ]
    },
    {
      "cell_type": "markdown",
      "metadata": {
        "id": "h35Z9-VV_jDQ"
      },
      "source": [
        "<p>If we can convert strings to numbers, it is only natural to assume that we can convert numbers to strings, right?</p>\n"
      ]
    },
    {
      "cell_type": "code",
      "execution_count": null,
      "metadata": {
        "id": "j-i1IDT7_jDQ"
      },
      "outputs": [],
      "source": [
        "# Convert an integer to a string\n",
        "\n",
        "str(1)\n"
      ]
    },
    {
      "cell_type": "markdown",
      "metadata": {
        "id": "aAPV5Y1s_jDQ"
      },
      "source": [
        "<p>And there is no reason why we shouldn't be able to make floats into strings as well:</p> \n"
      ]
    },
    {
      "cell_type": "code",
      "execution_count": null,
      "metadata": {
        "id": "3axl6N6J_jDQ"
      },
      "outputs": [],
      "source": [
        "# Convert a float to a string\n",
        "\n",
        "str(1.2)"
      ]
    },
    {
      "cell_type": "markdown",
      "metadata": {
        "id": "qwRhe7bQ_jDR"
      },
      "source": [
        "<h3 id=\"bool\">Boolean data type</h3>\n"
      ]
    },
    {
      "cell_type": "markdown",
      "metadata": {
        "id": "iHzkfs1k_jDR"
      },
      "source": [
        "<p><i>Boolean</i> is another important type in Python. An object of type <i>Boolean</i> can take on one of two values: <code>True</code> or <code>False</code>:</p>\n"
      ]
    },
    {
      "cell_type": "code",
      "execution_count": null,
      "metadata": {
        "id": "d0jYjXbs_jDR"
      },
      "outputs": [],
      "source": [
        "# Value true\n",
        "\n",
        "True"
      ]
    },
    {
      "cell_type": "markdown",
      "metadata": {
        "id": "_7Y2eHE4_jDR"
      },
      "source": [
        "<p>Notice that the value <code>True</code> has an uppercase \"T\". The same is true for <code>False</code> (i.e. you must use the uppercase \"F\").</p>\n"
      ]
    },
    {
      "cell_type": "code",
      "execution_count": null,
      "metadata": {
        "id": "KkLAl7fz_jDR"
      },
      "outputs": [],
      "source": [
        "# Value false\n",
        "\n",
        "False"
      ]
    },
    {
      "cell_type": "markdown",
      "metadata": {
        "id": "Vi7NdGqy_jDR"
      },
      "source": [
        "<p>When you ask Python to display the type of a boolean object it will show <code>bool</code> which stands for <i>boolean</i>:</p> \n"
      ]
    },
    {
      "cell_type": "code",
      "execution_count": null,
      "metadata": {
        "id": "dOeFwYAC_jDS"
      },
      "outputs": [],
      "source": [
        "# Type of True\n",
        "\n",
        "type(True)"
      ]
    },
    {
      "cell_type": "code",
      "execution_count": null,
      "metadata": {
        "id": "YbbC7Dtj_jDS"
      },
      "outputs": [],
      "source": [
        "# Type of False\n",
        "\n",
        "type(False)"
      ]
    },
    {
      "cell_type": "markdown",
      "metadata": {
        "id": "eDdIgkWz_jDS"
      },
      "source": [
        "<p>We can cast boolean objects to other data types. If we cast a boolean with a value of <code>True</code> to an integer or float we will get a one. If we cast a boolean with a value of <code>False</code> to an integer or float we will get a zero. Similarly, if we cast a 1 to a Boolean, you get a <code>True</code>. And if we cast a 0 to a Boolean we will get a <code>False</code>. Let's give it a try:</p> \n"
      ]
    },
    {
      "cell_type": "code",
      "execution_count": null,
      "metadata": {
        "id": "MzbmfwtX_jDS"
      },
      "outputs": [],
      "source": [
        "# Convert True to int\n",
        "\n",
        "int(True)"
      ]
    },
    {
      "cell_type": "code",
      "execution_count": null,
      "metadata": {
        "id": "vW5w5yf2_jDS"
      },
      "outputs": [],
      "source": [
        "# Convert 1 to boolean\n",
        "\n",
        "bool(1)"
      ]
    },
    {
      "cell_type": "code",
      "execution_count": null,
      "metadata": {
        "id": "dPsRAjW2_jDS"
      },
      "outputs": [],
      "source": [
        "# Convert 0 to boolean\n",
        "\n",
        "bool(0)"
      ]
    },
    {
      "cell_type": "code",
      "execution_count": null,
      "metadata": {
        "id": "cSUoLnwT_jDS"
      },
      "outputs": [],
      "source": [
        "# Convert True to float\n",
        "\n",
        "float(True)"
      ]
    },
    {
      "cell_type": "markdown",
      "metadata": {
        "id": "yhhUUFbS_jDT"
      },
      "source": [
        "<h3 id=\"exer_type\">Exercise: Types</h3>\n"
      ]
    },
    {
      "cell_type": "markdown",
      "metadata": {
        "id": "V1VbCo35_jDT"
      },
      "source": [
        "<p>What is the data type of the result of: <code>6 / 2</code>?</p>\n"
      ]
    },
    {
      "cell_type": "code",
      "execution_count": null,
      "metadata": {
        "id": "e3L8M4Om_jDT",
        "colab": {
          "base_uri": "https://localhost:8080/"
        },
        "outputId": "b7dc644e-e8ba-4b2b-b76e-8480f05cae68"
      },
      "outputs": [
        {
          "output_type": "execute_result",
          "data": {
            "text/plain": [
              "float"
            ]
          },
          "metadata": {},
          "execution_count": 3
        }
      ],
      "source": [
        "# Write your code below. Don't forget to press Shift+Enter to execute the cell\n",
        "type(6/2)\n"
      ]
    },
    {
      "cell_type": "markdown",
      "metadata": {
        "id": "PLPI-oqP_jDT"
      },
      "source": [
        "<details><summary>Click here for the solution</summary>\n",
        "\n",
        "```python\n",
        "type(6/2) # float\n",
        "\n",
        "```\n",
        "\n",
        "</details>\n"
      ]
    },
    {
      "cell_type": "markdown",
      "metadata": {
        "id": "0mvhj8-S_jDT"
      },
      "source": [
        "<p>What is the type of the result of: <code>6 // 2</code>? (Note the double slash <code>//</code>.)</p>\n"
      ]
    },
    {
      "cell_type": "code",
      "execution_count": null,
      "metadata": {
        "id": "LB1e17hi_jDT",
        "colab": {
          "base_uri": "https://localhost:8080/"
        },
        "outputId": "3d267534-5c7a-4e54-9a06-5fc86a461c8e"
      },
      "outputs": [
        {
          "output_type": "execute_result",
          "data": {
            "text/plain": [
              "int"
            ]
          },
          "metadata": {},
          "execution_count": 4
        }
      ],
      "source": [
        "# Write your code below. Don't forget to press Shift+Enter to execute the cell\n",
        "type(6//2)\n"
      ]
    },
    {
      "cell_type": "markdown",
      "metadata": {
        "id": "QDzl_MoZ_jDU"
      },
      "source": [
        "<details><summary>Click here for the solution</summary>\n",
        "\n",
        "```python\n",
        "type(6//2) # int, as the double slashes stand for integer division \n",
        "\n",
        "```\n",
        "\n",
        "</details>\n"
      ]
    },
    {
      "cell_type": "markdown",
      "metadata": {
        "id": "1pfqnQXJ_jDU"
      },
      "source": [
        "<hr>\n"
      ]
    },
    {
      "cell_type": "markdown",
      "metadata": {
        "id": "4qVID8v1_jDU"
      },
      "source": [
        "<h2 id=\"expressions\">Expression and Variables</h2>\n"
      ]
    },
    {
      "cell_type": "markdown",
      "metadata": {
        "id": "5mV74Wqt_jDU"
      },
      "source": [
        "<h3 id=\"exp\">Expressions</h3>\n"
      ]
    },
    {
      "cell_type": "markdown",
      "metadata": {
        "id": "zxqjpKzf_jDU"
      },
      "source": [
        "<p>Expressions in Python can include operations among compatible types (e.g., integers and floats). For example, basic arithmetic operations like adding multiple numbers:</p>\n"
      ]
    },
    {
      "cell_type": "code",
      "execution_count": null,
      "metadata": {
        "id": "loEzQL-j_jDU"
      },
      "outputs": [],
      "source": [
        "# Addition operation expression\n",
        "\n",
        "43 + 60 + 16 + 41"
      ]
    },
    {
      "cell_type": "markdown",
      "metadata": {
        "id": "Y6hdGgYh_jDU"
      },
      "source": [
        "<p>We can perform subtraction operations using the minus operator. In this case the result is a negative number:</p>\n"
      ]
    },
    {
      "cell_type": "code",
      "execution_count": null,
      "metadata": {
        "id": "yJ2BcV9q_jDV"
      },
      "outputs": [],
      "source": [
        "# Subtraction operation expression\n",
        "\n",
        "50 - 60"
      ]
    },
    {
      "cell_type": "markdown",
      "metadata": {
        "id": "C0KwvC8R_jDV"
      },
      "source": [
        "<p>We can do multiplication using an asterisk:</p>\n"
      ]
    },
    {
      "cell_type": "code",
      "execution_count": null,
      "metadata": {
        "id": "l2v3_UVR_jDV"
      },
      "outputs": [],
      "source": [
        "# Multiplication operation expression\n",
        "\n",
        "5 * 5"
      ]
    },
    {
      "cell_type": "markdown",
      "metadata": {
        "id": "HNQ6oDnr_jDV"
      },
      "source": [
        "<p>We can also perform division with the forward slash:\n"
      ]
    },
    {
      "cell_type": "code",
      "execution_count": null,
      "metadata": {
        "id": "1fJo_hwq_jDV"
      },
      "outputs": [],
      "source": [
        "# Division operation expression\n",
        "\n",
        "25 / 5"
      ]
    },
    {
      "cell_type": "code",
      "execution_count": null,
      "metadata": {
        "id": "4aelw7-t_jDV"
      },
      "outputs": [],
      "source": [
        "# Division operation expression\n",
        "\n",
        "25 / 6"
      ]
    },
    {
      "cell_type": "markdown",
      "metadata": {
        "id": "5MdAOUa9_jDW"
      },
      "source": [
        "<p>As seen in the quiz above, we can use the double slash for integer division, where the result is rounded down to the nearest integer:\n"
      ]
    },
    {
      "cell_type": "code",
      "execution_count": null,
      "metadata": {
        "id": "nw1tyvbN_jDW"
      },
      "outputs": [],
      "source": [
        "# Integer division operation expression\n",
        "\n",
        "25 // 5"
      ]
    },
    {
      "cell_type": "code",
      "execution_count": null,
      "metadata": {
        "id": "M67NvwYE_jDW"
      },
      "outputs": [],
      "source": [
        "# Integer division operation expression\n",
        "\n",
        "25 // 6"
      ]
    },
    {
      "cell_type": "markdown",
      "metadata": {
        "id": "PkTBfr4r_jDW"
      },
      "source": [
        "<h3 id=\"exer_exp\">Exercise: Expression</h3>\n"
      ]
    },
    {
      "cell_type": "markdown",
      "metadata": {
        "id": "pvvSk28q_jDW"
      },
      "source": [
        "<p>Let's write an expression that calculates how many hours there are in 160 minutes:\n"
      ]
    },
    {
      "cell_type": "code",
      "execution_count": null,
      "metadata": {
        "id": "0gkRJiWQ_jDW",
        "colab": {
          "base_uri": "https://localhost:8080/"
        },
        "outputId": "93842062-be26-4ed6-da7d-f79d5ca9794a"
      },
      "outputs": [
        {
          "output_type": "execute_result",
          "data": {
            "text/plain": [
              "2.6666666666666665"
            ]
          },
          "metadata": {},
          "execution_count": 6
        }
      ],
      "source": [
        "# Write your code below. Don't forget to press Shift+Enter to execute the cell\n",
        "160/60"
      ]
    },
    {
      "cell_type": "markdown",
      "metadata": {
        "id": "EqzoEpyW_jDX"
      },
      "source": [
        "<details><summary>Click here for the solution</summary>\n",
        "\n",
        "```python\n",
        "160/60 \n",
        "\n",
        "# Or \n",
        "\n",
        "160//60\n",
        "\n",
        "```\n",
        "\n",
        "</details>\n"
      ]
    },
    {
      "cell_type": "markdown",
      "metadata": {
        "id": "qEj9CVL8_jDX"
      },
      "source": [
        "<p>Python follows well accepted mathematical conventions when evaluating mathematical expressions. In the following example, Python adds 30 to the result of the multiplication (i.e., 120).\n"
      ]
    },
    {
      "cell_type": "code",
      "execution_count": null,
      "metadata": {
        "id": "20peATyN_jDX"
      },
      "outputs": [],
      "source": [
        "# Mathematical expression\n",
        "\n",
        "30 + 2 * 60"
      ]
    },
    {
      "cell_type": "markdown",
      "metadata": {
        "id": "RbxyqVGD_jDX"
      },
      "source": [
        "<p>And just like mathematics, expressions enclosed in parentheses have priority. So the following multiplies 32 by 60.\n"
      ]
    },
    {
      "cell_type": "code",
      "execution_count": null,
      "metadata": {
        "id": "SJ70BJfp_jDX"
      },
      "outputs": [],
      "source": [
        "# Mathematical expression\n",
        "\n",
        "(30 + 2) * 60"
      ]
    },
    {
      "cell_type": "markdown",
      "metadata": {
        "id": "oUmDCMOS_jDY"
      },
      "source": [
        "<h3 id=\"var\">Variables</h3>\n"
      ]
    },
    {
      "cell_type": "markdown",
      "metadata": {
        "id": "Rp0sB-Du_jDY"
      },
      "source": [
        "<p>Just like with most programming languages, we can store values in <i>variables</i>, so we can use them later on. For example:</p>\n"
      ]
    },
    {
      "cell_type": "code",
      "execution_count": null,
      "metadata": {
        "id": "EczgSpLu_jDY"
      },
      "outputs": [],
      "source": [
        "# Store value into variable\n",
        "\n",
        "x = 43 + 60 + 16 + 41"
      ]
    },
    {
      "cell_type": "markdown",
      "metadata": {
        "id": "rbWhXmkC_jDY"
      },
      "source": [
        "<p>To see the value of <code>x</code> in a Notebook, we can simply place it on the last line of a cell:</p>\n"
      ]
    },
    {
      "cell_type": "code",
      "execution_count": null,
      "metadata": {
        "id": "cDqtF3Zp_jDY",
        "colab": {
          "base_uri": "https://localhost:8080/",
          "height": 201
        },
        "outputId": "f0670694-3887-4c2a-c090-6e0ce0136bdd"
      },
      "outputs": [
        {
          "output_type": "error",
          "ename": "NameError",
          "evalue": "ignored",
          "traceback": [
            "\u001b[0;31m---------------------------------------------------------------------------\u001b[0m",
            "\u001b[0;31mNameError\u001b[0m                                 Traceback (most recent call last)",
            "\u001b[0;32m<ipython-input-7-bc6d37fa4d64>\u001b[0m in \u001b[0;36m<module>\u001b[0;34m()\u001b[0m\n\u001b[1;32m      1\u001b[0m \u001b[0;31m# Print out the value in variable\u001b[0m\u001b[0;34m\u001b[0m\u001b[0;34m\u001b[0m\u001b[0;34m\u001b[0m\u001b[0m\n\u001b[1;32m      2\u001b[0m \u001b[0;34m\u001b[0m\u001b[0m\n\u001b[0;32m----> 3\u001b[0;31m \u001b[0mx\u001b[0m\u001b[0;34m\u001b[0m\u001b[0;34m\u001b[0m\u001b[0m\n\u001b[0m",
            "\u001b[0;31mNameError\u001b[0m: name 'x' is not defined"
          ]
        }
      ],
      "source": [
        "# Print out the value in variable\n",
        "\n",
        "x"
      ]
    },
    {
      "cell_type": "markdown",
      "metadata": {
        "id": "4BVmZVpw_jDZ"
      },
      "source": [
        "<p>We can also perform operations on <code>x</code> and save the result to a new variable:</p>\n"
      ]
    },
    {
      "cell_type": "code",
      "execution_count": null,
      "metadata": {
        "id": "GcXswKb3_jDZ"
      },
      "outputs": [],
      "source": [
        "# Use another variable to store the result of the operation between variable and value\n",
        "\n",
        "y = x / 60\n",
        "y"
      ]
    },
    {
      "cell_type": "markdown",
      "metadata": {
        "id": "z7EFJU8h_jDa"
      },
      "source": [
        "<p>If we save a value to an existing variable, the new value will overwrite the previous value:</p>\n"
      ]
    },
    {
      "cell_type": "code",
      "execution_count": null,
      "metadata": {
        "id": "RPdZs9Rz_jDa"
      },
      "outputs": [],
      "source": [
        "# Overwrite variable with new value\n",
        "\n",
        "x = x / 60\n",
        "x"
      ]
    },
    {
      "cell_type": "markdown",
      "metadata": {
        "id": "Nkxp68Ln_jDa"
      },
      "source": [
        "<p>It's a good practice to use meaningful variable names, so you and others can read the code and understand it more easily:</p>\n"
      ]
    },
    {
      "cell_type": "code",
      "execution_count": null,
      "metadata": {
        "id": "S2zHI0D3_jDa"
      },
      "outputs": [],
      "source": [
        "# Name the variables meaningfully\n",
        "\n",
        "total_min = 43 + 42 + 57 # Total length of albums in minutes\n",
        "total_min"
      ]
    },
    {
      "cell_type": "code",
      "execution_count": null,
      "metadata": {
        "id": "wJmypeoH_jDa"
      },
      "outputs": [],
      "source": [
        "# Name the variables meaningfully\n",
        "\n",
        "total_hours = total_min / 60 # Total length of albums in hours \n",
        "total_hours"
      ]
    },
    {
      "cell_type": "markdown",
      "metadata": {
        "id": "DiqUL2AH_jDa"
      },
      "source": [
        "<p>In the cells above we added the length of three albums in minutes and stored it in <code>total_min</code>. We then divided it by 60 to calculate total length <code>total_hours</code> in hours. You can also do it all at once in a single expression, as long as you use parenthesis to add the albums length before you divide, as shown below.</p>\n"
      ]
    },
    {
      "cell_type": "code",
      "execution_count": null,
      "metadata": {
        "id": "06o7tKvF_jDb"
      },
      "outputs": [],
      "source": [
        "# Complicate expression\n",
        "\n",
        "total_hours = (43 + 42 + 57) / 60  # Total hours in a single expression\n",
        "total_hours"
      ]
    },
    {
      "cell_type": "markdown",
      "metadata": {
        "id": "Ga_byePA_jDb"
      },
      "source": [
        "<p>If you'd rather have total hours as an integer, you can of course replace the floating point division with integer division (i.e., <code>//</code>).</p>\n"
      ]
    },
    {
      "cell_type": "markdown",
      "metadata": {
        "id": "sbrM7qEO_jDb"
      },
      "source": [
        "<h3 id=\"exer_exp_var\">Exercise: Expression and Variables in Python</h3>\n"
      ]
    },
    {
      "cell_type": "markdown",
      "metadata": {
        "id": "dsae2kmc_jDb"
      },
      "source": [
        "<p>What is the value of <code>x</code> where <code>x = 3 + 2 * 2</code></p>\n"
      ]
    },
    {
      "cell_type": "code",
      "execution_count": null,
      "metadata": {
        "id": "dHRlw-hV_jDb",
        "colab": {
          "base_uri": "https://localhost:8080/"
        },
        "outputId": "984b3ea3-6266-48c1-f0a1-81302daf6aa1"
      },
      "outputs": [
        {
          "output_type": "execute_result",
          "data": {
            "text/plain": [
              "7"
            ]
          },
          "metadata": {},
          "execution_count": 8
        }
      ],
      "source": [
        "# Write your code below. Don't forget to press Shift+Enter to execute the cell\n",
        "x = 3+2*2\n",
        "x\n"
      ]
    },
    {
      "cell_type": "markdown",
      "metadata": {
        "id": "-qtZ0dMp_jDb"
      },
      "source": [
        "<details><summary>Click here for the solution</summary>\n",
        "\n",
        "```python\n",
        "7\n",
        "\n",
        "```\n",
        "\n",
        "</details>\n"
      ]
    },
    {
      "cell_type": "markdown",
      "metadata": {
        "id": "ttmH5DOz_jDb"
      },
      "source": [
        "<p>What is the value of <code>y</code> where <code>y = (3 + 2) * 2</code>?</p>\n"
      ]
    },
    {
      "cell_type": "code",
      "execution_count": null,
      "metadata": {
        "id": "st-9C1Te_jDc",
        "colab": {
          "base_uri": "https://localhost:8080/"
        },
        "outputId": "886142c6-a325-48d8-b638-b83876caeaf3"
      },
      "outputs": [
        {
          "output_type": "execute_result",
          "data": {
            "text/plain": [
              "10"
            ]
          },
          "metadata": {},
          "execution_count": 9
        }
      ],
      "source": [
        "# Write your code below. Don't forget to press Shift+Enter to execute the cell\n",
        "y= (3+2)*2\n",
        "y\n"
      ]
    },
    {
      "cell_type": "markdown",
      "metadata": {
        "id": "cJdkzKXO_jDc"
      },
      "source": [
        "<details><summary>Click here for the solution</summary>\n",
        "\n",
        "```python\n",
        "10\n",
        "\n",
        "```\n",
        "\n",
        "</details>\n"
      ]
    },
    {
      "cell_type": "markdown",
      "metadata": {
        "id": "OF6l1zqu_jDc"
      },
      "source": [
        "<p>What is the value of <code>z</code> where <code>z = x + y</code>?</p>\n"
      ]
    },
    {
      "cell_type": "code",
      "execution_count": null,
      "metadata": {
        "id": "J15N8ETg_jDc",
        "colab": {
          "base_uri": "https://localhost:8080/"
        },
        "outputId": "75791001-81b9-48a0-b6f3-5eb86c822580"
      },
      "outputs": [
        {
          "output_type": "execute_result",
          "data": {
            "text/plain": [
              "17"
            ]
          },
          "metadata": {},
          "execution_count": 10
        }
      ],
      "source": [
        "# Write your code below. Don't forget to press Shift+Enter to execute the cell\n",
        "z=x+y\n",
        "z\n"
      ]
    },
    {
      "cell_type": "markdown",
      "metadata": {
        "id": "Jd_J_Cnu_jDc"
      },
      "source": [
        "<details><summary>Click here for the solution</summary>\n",
        "\n",
        "```python\n",
        "17\n",
        "\n",
        "```\n",
        "\n",
        "</details>\n"
      ]
    },
    {
      "cell_type": "markdown",
      "metadata": {
        "id": "D6-ubicX_jDc"
      },
      "source": [
        "<hr>\n",
        "<h2>The last exercise!</h2>\n",
        "<p>Congratulations, you have completed your first lesson and hands-on lab in Python.\n",
        "<hr>\n"
      ]
    },
    {
      "cell_type": "markdown",
      "metadata": {
        "id": "1P6uHzVE_jDd"
      },
      "source": [
        "## Author\n",
        "\n",
        "<a href=\"https://www.linkedin.com/in/joseph-s-50398b136/?utm_medium=Exinfluencer&utm_source=Exinfluencer&utm_content=000026UJ&utm_term=10006555&utm_id=NA-SkillsNetwork-Channel-SkillsNetworkCoursesIBMDeveloperSkillsNetworkPY0101ENSkillsNetwork19487395-2022-01-01\" target=\"_blank\">Joseph Santarcangelo</a>\n",
        "\n",
        "## Other contributors\n",
        "\n",
        "<a href=\"https://www.linkedin.com/in/jiahui-mavis-zhou-a4537814a?utm_medium=Exinfluencer&utm_source=Exinfluencer&utm_content=000026UJ&utm_term=10006555&utm_id=NA-SkillsNetwork-Channel-SkillsNetworkCoursesIBMDeveloperSkillsNetworkPY0101ENSkillsNetwork19487395-2022-01-01\">Mavis Zhou</a>\n",
        "\n",
        "## Change Log\n",
        "\n",
        "| Date (YYYY-MM-DD) | Version | Changed By | Change Description                 |\n",
        "| ----------------- | ------- | ---------- | ---------------------------------- |\n",
        "| 2022-01-10        | 2.1     | Malika     | Removed the readme for GitShare    |\n",
        "| 2020-08-26        | 2.0     | Lavanya    | Moved lab to course repo in GitLab |\n",
        "|                   |         |            |                                    |\n",
        "|                   |         |            |                                    |\n",
        "\n",
        "## <h3 align=\"center\"> © IBM Corporation 2020. All rights reserved. <h3/>\n"
      ]
    }
  ],
  "metadata": {
    "kernelspec": {
      "display_name": "Python 3",
      "language": "python",
      "name": "python3"
    },
    "language_info": {
      "codemirror_mode": {
        "name": "ipython",
        "version": 3
      },
      "file_extension": ".py",
      "mimetype": "text/x-python",
      "name": "python",
      "nbconvert_exporter": "python",
      "pygments_lexer": "ipython3",
      "version": "3.7.6"
    },
    "colab": {
      "name": "Copia de PY0101EN-1-1-Write_your_first_python_code.ipynb",
      "provenance": [],
      "collapsed_sections": [
        "1P6uHzVE_jDd"
      ],
      "include_colab_link": true
    }
  },
  "nbformat": 4,
  "nbformat_minor": 0
}